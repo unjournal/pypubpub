{
  "nbformat": 4,
  "nbformat_minor": 0,
  "metadata": {
    "colab": {
      "provenance": [],
      "toc_visible": true
    },
    "kernelspec": {
      "name": "python3",
      "display_name": "Python 3"
    },
    "language_info": {
      "name": "python"
    }
  },
  "cells": [
    {
      "cell_type": "code",
      "execution_count": null,
      "metadata": {
        "id": "aPDvVooXtAL0"
      },
      "outputs": [],
      "source": []
    },
    {
      "cell_type": "markdown",
      "source": [
        "# Install"
      ],
      "metadata": {
        "id": "tSS4HAU0Q0gD"
      }
    },
    {
      "cell_type": "code",
      "source": [
        "!python -V"
      ],
      "metadata": {
        "colab": {
          "base_uri": "https://localhost:8080/"
        },
        "id": "dnS7vm1htTaX",
        "outputId": "16242c47-99d8-4f27-ae29-5a8672e41db6"
      },
      "execution_count": null,
      "outputs": [
        {
          "output_type": "stream",
          "name": "stdout",
          "text": [
            "Python 3.10.12\n"
          ]
        }
      ]
    },
    {
      "cell_type": "code",
      "source": [
        "import json\n",
        "import requests\n"
      ],
      "metadata": {
        "id": "5kEui8Ru5KaD"
      },
      "execution_count": null,
      "outputs": []
    },
    {
      "cell_type": "code",
      "execution_count": null,
      "metadata": {
        "id": "RLBKGfhTWff_",
        "colab": {
          "base_uri": "https://localhost:8080/"
        },
        "outputId": "a2b01dd3-c199-4493-f128-658e9cd8a682"
      },
      "outputs": [
        {
          "output_type": "stream",
          "name": "stdout",
          "text": [
            "Using pip 23.1.2 from /usr/local/lib/python3.10/dist-packages/pip (python 3.10)\n",
            "Collecting git+https://github.com/unjournal/pypubpub@main\n",
            "  Cloning https://github.com/unjournal/pypubpub (to revision main) to /tmp/pip-req-build-r1zzdyac\n",
            "  Running command git version\n",
            "  git version 2.34.1\n",
            "  Running command git clone --filter=blob:none https://github.com/unjournal/pypubpub /tmp/pip-req-build-r1zzdyac\n",
            "  Cloning into '/tmp/pip-req-build-r1zzdyac'...\n",
            "  Running command git show-ref main\n",
            "  2bac1f4d51ffe7dc5deba610e92db1432b533e91 refs/heads/main\n",
            "  2bac1f4d51ffe7dc5deba610e92db1432b533e91 refs/remotes/origin/main\n",
            "  Running command git symbolic-ref -q HEAD\n",
            "  refs/heads/main\n",
            "  Resolved https://github.com/unjournal/pypubpub to commit 2bac1f4d51ffe7dc5deba610e92db1432b533e91\n",
            "  Running command git rev-parse HEAD\n",
            "  2bac1f4d51ffe7dc5deba610e92db1432b533e91\n",
            "  Running command pip subprocess to install build dependencies\n",
            "  Using pip 23.1.2 from /usr/local/lib/python3.10/dist-packages/pip (python 3.10)\n",
            "  Collecting flit_core<4,>=3.2\n",
            "    Downloading flit_core-3.9.0-py3-none-any.whl (63 kB)\n",
            "       ━━━━━━━━━━━━━━━━━━━━━━━━━━━━━━━━━━━━━━━━ 63.1/63.1 kB 738.6 kB/s eta 0:00:00\n"
          ]
        }
      ],
      "source": [
        "#@title Install helper SDK from github\n",
        "\n",
        "!pip install --verbose git+https://github.com/unjournal/pypubpub@main\n",
        "\n"
      ]
    },
    {
      "cell_type": "code",
      "source": [
        "import pypubpub"
      ],
      "metadata": {
        "id": "15ULNYKHtj-N"
      },
      "execution_count": null,
      "outputs": []
    },
    {
      "cell_type": "markdown",
      "source": [
        "# Initialize"
      ],
      "metadata": {
        "id": "dvxwc2FrRVsP"
      }
    },
    {
      "cell_type": "code",
      "source": [
        "#@title initialize and login\n",
        "from google.colab import userdata\n",
        "nesim_pass = userdata.get(\"nesim_pass\")\n",
        "pub_helper_v6=pypubpub.Pubshelper_v6(\n",
        "    community_url=\"https://testabcd123456789.pubpub.org\",\n",
        "    community_id=\"fce230e8-c211-40e1-8a34-60a65c1aad08\",\n",
        "    password=nesim_pass,\n",
        "    email=\"nesim.engineer@gmail.com\"\n",
        "    )\n",
        "pub_helper_v6.login()"
      ],
      "metadata": {
        "id": "xE9kGZtVPuMI",
        "outputId": "f8c6574b-55d2-43ad-d8e7-bf126f74d598",
        "colab": {
          "base_uri": "https://localhost:8080/",
          "height": 216
        }
      },
      "execution_count": null,
      "outputs": [
        {
          "output_type": "error",
          "ename": "NameError",
          "evalue": "name 'pypubpub' is not defined",
          "traceback": [
            "\u001b[0;31m---------------------------------------------------------------------------\u001b[0m",
            "\u001b[0;31mNameError\u001b[0m                                 Traceback (most recent call last)",
            "\u001b[0;32m<ipython-input-1-4498b3f06a67>\u001b[0m in \u001b[0;36m<cell line: 4>\u001b[0;34m()\u001b[0m\n\u001b[1;32m      2\u001b[0m \u001b[0;32mfrom\u001b[0m \u001b[0mgoogle\u001b[0m\u001b[0;34m.\u001b[0m\u001b[0mcolab\u001b[0m \u001b[0;32mimport\u001b[0m \u001b[0muserdata\u001b[0m\u001b[0;34m\u001b[0m\u001b[0;34m\u001b[0m\u001b[0m\n\u001b[1;32m      3\u001b[0m \u001b[0mnesim_pass\u001b[0m \u001b[0;34m=\u001b[0m \u001b[0muserdata\u001b[0m\u001b[0;34m.\u001b[0m\u001b[0mget\u001b[0m\u001b[0;34m(\u001b[0m\u001b[0;34m\"nesim_pass\"\u001b[0m\u001b[0;34m)\u001b[0m\u001b[0;34m\u001b[0m\u001b[0;34m\u001b[0m\u001b[0m\n\u001b[0;32m----> 4\u001b[0;31m pub_helper_v6=pypubpub.Pubshelper_v6(\n\u001b[0m\u001b[1;32m      5\u001b[0m     \u001b[0mcommunity_url\u001b[0m\u001b[0;34m=\u001b[0m\u001b[0;34m\"https://testabcd123456789.pubpub.org\"\u001b[0m\u001b[0;34m,\u001b[0m\u001b[0;34m\u001b[0m\u001b[0;34m\u001b[0m\u001b[0m\n\u001b[1;32m      6\u001b[0m     \u001b[0mcommunity_id\u001b[0m\u001b[0;34m=\u001b[0m\u001b[0;34m\"fce230e8-c211-40e1-8a34-60a65c1aad08\"\u001b[0m\u001b[0;34m,\u001b[0m\u001b[0;34m\u001b[0m\u001b[0;34m\u001b[0m\u001b[0m\n",
            "\u001b[0;31mNameError\u001b[0m: name 'pypubpub' is not defined"
          ]
        }
      ]
    },
    {
      "cell_type": "code",
      "source": [
        "#@title Confirm pub access by performing Get operation\n",
        "pubs_v6 = pub_helper_v6.get_many_pubs()"
      ],
      "metadata": {
        "id": "TuX7UPcxSAL6"
      },
      "execution_count": null,
      "outputs": []
    },
    {
      "cell_type": "code",
      "source": [
        "# import re\n",
        "\n",
        "evals=[1,2,\"a\", \"b\"]\n",
        "for e in range(len(evals)):\n",
        "  print( e, \" ; \",evals[e])"
      ],
      "metadata": {
        "id": "k2jVbe-xqDnz",
        "colab": {
          "base_uri": "https://localhost:8080/"
        },
        "outputId": "257369c3-5ead-4196-edd7-0ab887ff9dd5"
      },
      "execution_count": null,
      "outputs": [
        {
          "output_type": "stream",
          "name": "stdout",
          "text": [
            "0  ;  1\n",
            "1  ;  2\n",
            "2  ;  a\n",
            "3  ;  b\n"
          ]
        }
      ]
    },
    {
      "cell_type": "code",
      "source": [
        "import re\n",
        "\n",
        "def isMaybePubId(t:str):\n",
        "  t2 = re.sub(r\"\\s+|-\",\"\", t )\n",
        "  if(not len(t2)==32):\n",
        "    return False\n",
        "  t3 = re.sub(r\"[a-f0-9]\", \"\", t2.casefold())\n",
        "  if(len(t3)==0):\n",
        "    return True\n",
        "  else:\n",
        "    return False\n",
        "\n",
        "def resolve_original(o_id:str, parent_url:str, blank_pub=\"blank_pub\"):\n",
        "  \"\"\"\n",
        "    check if external paper has an existing Pubpub id\n",
        "    if not create one by making a link from a Pubpub pub to the external resource\n",
        "  \"\"\"\n",
        "  if isMaybePubId(o_id):\n",
        "    pubgotten = pub_helper_v6.getPubByIdorSlug(o_id)\n",
        "    if pubgotten:\n",
        "      return o_id\n",
        "  blank_pub_dict = pub_helper_v6.getPubByIdorSlug(blank_pub)\n",
        "  if(not blank_pub_dict):\n",
        "    blank_pub_dict = pub_helper_v6.create_pub(slug=blank_pub, title=\"blank pub\", description=\"blank pub\")\n",
        "\n",
        "\n",
        "  # if(len(o_id)==len(\"fce230e8-c211-40e1-8a34-60a65c1aad08\") or len(o_id)==len(\"fce230e8c21140e18a3460a65c1aad08\")):\n",
        "  #   pass\n",
        "\n",
        "def create_pubs(\n",
        "    original_paper=\"pubid or external url or doi\",\n",
        "    evals=[\n",
        "        {\"slug\":\"eval01\", \"author\":\"anonymous\"},\n",
        "        {\"slug\":\"eval02\", \"author\": \"pubIDXX\"}\n",
        "    ]\n",
        "):\n",
        "  #link\n",
        "  # original_paper_res = resolve_original(original_paper)\n",
        "  isValidPubId = False\n",
        "  if isMaybePubId(original_paper):\n",
        "    (isValidPubId, origPaperPubID ) = validateOrigPaperPubId(original_paper)\n",
        "\n",
        "  # first create pubs\n",
        "  createdPubIds = []\n",
        "  createdPubs = []\n",
        "  createPubErrors = []\n",
        "  for e in evals:\n",
        "    pubArgs = buildArgs(**e, isValidPubId =isValidPubId, origPaperPubID=origPaperPubID)\n",
        "    pubNew = pub_helper_v6.create_pub(pubArgs)\n",
        "    if pubNew:\n",
        "      createdPubIds.append(pubNew.id)\n",
        "      createdPubs.append(pubNew)\n",
        "    else:\n",
        "      createPubErrors.append({\"data\":pubArgs.copy(), \"error\":\"Unable to create pub\"})\n",
        "\n",
        "\n",
        "\n",
        "  # # link pubs\n",
        "  # linkPubs(originalPaperPub, createdPubs)\n",
        "  # for i in range(len(evals)):\n",
        "  #   pub_helper_v6.connect_pub()\n",
        "\n",
        "\n",
        "\n",
        "def link_pubs(originalPaperPub:str, pubs:list):\n",
        "  pubsLinked=[]\n",
        "  linkErrors=[]\n",
        "  if(not originalPaperPub):\n",
        "    # connect to 1st pub and then\n",
        "  for i in range(len(evals)):\n",
        "    #connect to parent pub\n",
        "    pub_helper_v6.connect_pub(srcPubId=)\n",
        "  return\n",
        "\n",
        "\n"
      ],
      "metadata": {
        "colab": {
          "base_uri": "https://localhost:8080/",
          "height": 144
        },
        "id": "tVSbFxNISAEG",
        "outputId": "0085c87f-330b-4eb7-e0b2-59be3b0dc0a6"
      },
      "execution_count": null,
      "outputs": [
        {
          "output_type": "error",
          "ename": "NameError",
          "evalue": "name 'create_and_link_pubs' is not defined",
          "traceback": [
            "\u001b[0;31m---------------------------------------------------------------------------\u001b[0m",
            "\u001b[0;31mNameError\u001b[0m                                 Traceback (most recent call last)",
            "\u001b[0;32m<ipython-input-11-1a6a2c7b17d2>\u001b[0m in \u001b[0;36m<cell line: 1>\u001b[0;34m()\u001b[0m\n\u001b[0;32m----> 1\u001b[0;31m \u001b[0mcreate_and_link_pubs\u001b[0m\u001b[0;34m(\u001b[0m\u001b[0;34m)\u001b[0m\u001b[0;34m\u001b[0m\u001b[0;34m\u001b[0m\u001b[0m\n\u001b[0m",
            "\u001b[0;31mNameError\u001b[0m: name 'create_and_link_pubs' is not defined"
          ]
        }
      ]
    },
    {
      "cell_type": "code",
      "source": [],
      "metadata": {
        "id": "yrlENN6UR_45"
      },
      "execution_count": null,
      "outputs": []
    },
    {
      "cell_type": "code",
      "source": [],
      "metadata": {
        "id": "hb-qLmKoR9yv"
      },
      "execution_count": null,
      "outputs": []
    }
  ]
}